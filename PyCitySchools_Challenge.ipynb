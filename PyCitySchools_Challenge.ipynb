{
 "cells": [
  {
   "cell_type": "code",
   "execution_count": null,
   "metadata": {},
   "outputs": [],
   "source": [
    "# Dependencies and Setup\n",
    "import pandas as pd\n",
    "\n",
    "# File to Load (Remember to change the path if needed.)\n",
    "school_data_to_load = \"Resources/schools_complete.csv\"\n",
    "student_data_to_load = \"Resources/students_complete.csv\"\n",
    "\n",
    "# Read the School Data and Student Data and store into a Pandas DataFrame\n",
    "school_data_df = pd.read_csv(school_data_to_load)\n",
    "student_data_df = pd.read_csv(student_data_to_load)\n",
    "\n",
    "# Cleaning Student Names and Replacing Substrings in a Python String\n",
    "# Add each prefix and suffix to remove to a list.\n",
    "prefixes_suffixes = [\"Dr. \", \"Mr. \",\"Ms. \", \"Mrs. \", \"Miss \", \" MD\", \" DDS\", \" DVM\", \" PhD\"]\n",
    "\n",
    "# Iterate through the words in the \"prefixes_suffixes\" list and replace them with an empty space, \"\".\n",
    "for word in prefixes_suffixes:\n",
    "    student_data_df[\"student_name\"] = student_data_df[\"student_name\"].str.replace(word,\"\")\n",
    "\n",
    "# Check names.\n",
    "student_data_df.head(10)"
   ]
  },
  {
   "cell_type": "markdown",
   "metadata": {},
   "source": [
    "## Deliverable 1: Replace the reading and math scores.\n",
    "\n",
    "### Replace the 9th grade reading and math scores at Thomas High School with NaN."
   ]
  },
  {
   "cell_type": "code",
   "execution_count": null,
   "metadata": {},
   "outputs": [],
   "source": [
    "# Install numpy using conda install numpy or pip install numpy. \n",
    "# Step 1. Import numpy as np.\n",
    "import numpy as np"
   ]
  },
  {
   "cell_type": "code",
   "execution_count": null,
   "metadata": {},
   "outputs": [],
   "source": [
    "# Step 2. Use the loc method on the student_data_df to select all the reading scores from the 9th grade at Thomas High School and replace them with NaN.\n",
    "student_data_df.loc[(student_data_df['school_name']=='Thomas High School') & (student_data_df['grade'] == '9th'), 'reading_score'] = np.NaN\n",
    "\n"
   ]
  },
  {
   "cell_type": "code",
   "execution_count": null,
   "metadata": {},
   "outputs": [],
   "source": [
    "#  Step 3. Refactor the code in Step 2 to replace the math scores with NaN.\n",
    "student_data_df.loc[(student_data_df['school_name']=='Thomas High School')& (student_data_df['grade']=='9th'),'math_score'] = np.NaN"
   ]
  },
  {
   "cell_type": "code",
   "execution_count": null,
   "metadata": {},
   "outputs": [],
   "source": [
    "#  Step 4. Check the student data for NaN's. \n",
    "\n",
    "student_data_df.loc[(student_data_df['school_name']=='Thomas High School')& (student_data_df['grade']=='9th'),['school_name','grade','reading_score','math_score']]"
   ]
  },
  {
   "cell_type": "markdown",
   "metadata": {},
   "source": [
    "## Deliverable 2 : Repeat the school district analysis"
   ]
  },
  {
   "cell_type": "markdown",
   "metadata": {},
   "source": [
    "### District Summary"
   ]
  },
  {
   "cell_type": "code",
   "execution_count": null,
   "metadata": {},
   "outputs": [],
   "source": [
    "# Combine the data into a single dataset\n",
    "school_data_complete_df = pd.merge(student_data_df, school_data_df, how=\"left\", on=[\"school_name\", \"school_name\"])\n",
    "school_data_complete_df"
   ]
  },
  {
   "cell_type": "code",
   "execution_count": null,
   "metadata": {},
   "outputs": [],
   "source": [
    "# Calculate the Totals (Schools and Students)\n",
    "school_count = len(school_data_complete_df[\"school_name\"].unique())\n",
    "student_count = school_data_complete_df[\"Student ID\"].count()\n",
    "\n",
    "# Calculate the Total Budget\n",
    "total_budget = school_data_df[\"budget\"].sum()"
   ]
  },
  {
   "cell_type": "code",
   "execution_count": null,
   "metadata": {},
   "outputs": [],
   "source": [
    "# Calculate the Average Scores using the \"clean_student_data\".\n",
    "average_reading_score = school_data_complete_df[\"reading_score\"].mean()\n",
    "average_math_score = school_data_complete_df[\"math_score\"].mean()"
   ]
  },
  {
   "cell_type": "code",
   "execution_count": null,
   "metadata": {},
   "outputs": [],
   "source": [
    "# Step 1. Get the number of students that are in ninth grade at Thomas High School.\n",
    "# These students have no grades. \n",
    "thomas_9th_grader_count = student_data_df.loc[(student_data_df['school_name']=='Thomas High School')&(student_data_df['grade']=='9th'),'student_name'].count()\n",
    "\n",
    "# Get the total student count \n",
    "student_count = school_data_complete_df[\"Student ID\"].count()\n",
    "\n",
    "\n",
    "# Step 2. Subtract the number of students that are in ninth grade at \n",
    "# Thomas High School from the total student count to get the new total student count.\n",
    "new_student_count = student_count-thomas_9th_grader_count\n"
   ]
  },
  {
   "cell_type": "code",
   "execution_count": null,
   "metadata": {},
   "outputs": [],
   "source": [
    "# Calculate the passing rates using the \"clean_student_data\".\n",
    "passing_math_count = school_data_complete_df[(school_data_complete_df[\"math_score\"] >= 70)].count()[\"student_name\"]\n",
    "passing_reading_count = school_data_complete_df[(school_data_complete_df[\"reading_score\"] >= 70)].count()[\"student_name\"]"
   ]
  },
  {
   "cell_type": "code",
   "execution_count": null,
   "metadata": {},
   "outputs": [],
   "source": [
    "# Step 3. Calculate the passing percentages with the new total student count.\n",
    "passing_math_percentage = float(passing_math_count)/float(new_student_count)*100\n",
    "passing_reading_percentage = float(passing_reading_count)/float(new_student_count)*100"
   ]
  },
  {
   "cell_type": "code",
   "execution_count": null,
   "metadata": {},
   "outputs": [],
   "source": [
    "# Calculate the students who passed both reading and math.\n",
    "passing_math_reading = school_data_complete_df[(school_data_complete_df[\"math_score\"] >= 70)\n",
    "                                               & (school_data_complete_df[\"reading_score\"] >= 70)]\n",
    "\n",
    "# Calculate the number of students that passed both reading and math.\n",
    "overall_passing_math_reading_count = passing_math_reading[\"student_name\"].count()\n",
    "\n",
    "\n",
    "# Step 4.Calculate the overall passing percentage with new total student count.\n",
    "overall_passing_percentage = float(overall_passing_math_reading_count)/float(new_student_count)*100"
   ]
  },
  {
   "cell_type": "code",
   "execution_count": null,
   "metadata": {},
   "outputs": [],
   "source": [
    "# Create a DataFrame\n",
    "district_summary_df = pd.DataFrame(\n",
    "          [{\"Total Schools\": school_count, \n",
    "          \"Total Students\": new_student_count, \n",
    "          \"Total Budget\": total_budget,\n",
    "          \"Average Math Score\": average_math_score, \n",
    "          \"Average Reading Score\": average_reading_score,\n",
    "          \"% Passing Math\": passing_math_percentage,\n",
    "         \"% Passing Reading\": passing_reading_percentage,\n",
    "        \"% Overall Passing\": overall_passing_percentage}])\n",
    "\n",
    "\n",
    "\n",
    "# Format the \"Total Students\" to have the comma for a thousands separator.\n",
    "district_summary_df[\"Total Students\"] = district_summary_df[\"Total Students\"].map(\"{:,}\".format)\n",
    "# Format the \"Total Budget\" to have the comma for a thousands separator, a decimal separator and a \"$\".\n",
    "district_summary_df[\"Total Budget\"] = district_summary_df[\"Total Budget\"].map(\"${:,.2f}\".format)\n",
    "# Format the columns.\n",
    "district_summary_df[\"Average Math Score\"] = district_summary_df[\"Average Math Score\"].map(\"{:.1f}\".format)\n",
    "district_summary_df[\"Average Reading Score\"] = district_summary_df[\"Average Reading Score\"].map(\"{:.1f}\".format)\n",
    "district_summary_df[\"% Passing Math\"] = district_summary_df[\"% Passing Math\"].map(\"{:.1f}\".format)\n",
    "district_summary_df[\"% Passing Reading\"] = district_summary_df[\"% Passing Reading\"].map(\"{:.1f}\".format)\n",
    "district_summary_df[\"% Overall Passing\"] = district_summary_df[\"% Overall Passing\"].map(\"{:.1f}\".format)\n",
    "\n",
    "# Display the data frame\n",
    "district_summary_df"
   ]
  },
  {
   "cell_type": "markdown",
   "metadata": {},
   "source": [
    "##  School Summary"
   ]
  },
  {
   "cell_type": "code",
   "execution_count": null,
   "metadata": {},
   "outputs": [],
   "source": [
    "# Determine the School Type\n",
    "per_school_types = school_data_df.set_index([\"school_name\"])[\"type\"]\n",
    "\n",
    "# Calculate the total student count.\n",
    "per_school_counts = school_data_complete_df[\"school_name\"].value_counts()\n",
    "\n",
    "# Calculate the total school budget and per capita spending\n",
    "per_school_budget = school_data_complete_df.groupby([\"school_name\"]).mean()[\"budget\"]\n",
    "# Calculate the per capita spending.\n",
    "per_school_capita = per_school_budget / per_school_counts\n",
    "\n",
    "# Calculate the average test scores.\n",
    "per_school_math = school_data_complete_df.groupby([\"school_name\"]).mean()[\"math_score\"]\n",
    "per_school_reading = school_data_complete_df.groupby([\"school_name\"]).mean()[\"reading_score\"]\n",
    "\n",
    "# Calculate the passing scores by creating a filtered DataFrame.\n",
    "per_school_passing_math = school_data_complete_df[(school_data_complete_df[\"math_score\"] >= 70)]\n",
    "per_school_passing_reading = school_data_complete_df[(school_data_complete_df[\"reading_score\"] >= 70)]\n",
    "\n",
    "# Calculate the number of students passing math and passing reading by school.\n",
    "per_school_passing_math = per_school_passing_math.groupby([\"school_name\"]).count()[\"student_name\"]\n",
    "per_school_passing_reading = per_school_passing_reading.groupby([\"school_name\"]).count()[\"student_name\"]\n",
    "\n",
    "# Calculate the percentage of passing math and reading scores per school.\n",
    "per_school_passing_math = per_school_passing_math / per_school_counts * 100\n",
    "per_school_passing_reading = per_school_passing_reading / per_school_counts * 100\n",
    "\n",
    "# Calculate the students who passed both reading and math.\n",
    "per_passing_math_reading = school_data_complete_df[(school_data_complete_df[\"reading_score\"] >= 70)\n",
    "                                               & (school_data_complete_df[\"math_score\"] >= 70)]\n",
    "\n",
    "# Calculate the number of students passing math and passing reading by school.\n",
    "per_passing_math_reading = per_passing_math_reading.groupby([\"school_name\"]).count()[\"student_name\"]\n",
    "\n",
    "# Calculate the percentage of passing math and reading scores per school.\n",
    "per_overall_passing_percentage = per_passing_math_reading / per_school_counts * 100"
   ]
  },
  {
   "cell_type": "code",
   "execution_count": null,
   "metadata": {},
   "outputs": [],
   "source": [
    "# Create the DataFrame\n",
    "per_school_summary_df = pd.DataFrame({\n",
    "    \"School Type\": per_school_types,\n",
    "    \"Total Students\": per_school_counts,\n",
    "    \"Total School Budget\": per_school_budget,\n",
    "    \"Per Student Budget\": per_school_capita,\n",
    "    \"Average Math Score\": per_school_math,\n",
    "    \"Average Reading Score\": per_school_reading,\n",
    "    \"% Passing Math\": per_school_passing_math,\n",
    "    \"% Passing Reading\": per_school_passing_reading,\n",
    "    \"% Overall Passing\": per_overall_passing_percentage})\n",
    "\n",
    "\n",
    "# per_school_summary_df"
   ]
  },
  {
   "cell_type": "code",
   "execution_count": null,
   "metadata": {},
   "outputs": [],
   "source": [
    "# # Format the Total School Budget and the Per Student Budget\n",
    "# per_school_summary_df[\"Total School Budget\"] = per_school_summary_df[\"Total School Budget\"].map(\"${:,.2f}\".format)\n",
    "# per_school_summary_df[\"Per Student Budget\"] = per_school_summary_df[\"Per Student Budget\"].map(\"${:,.2f}\".format)\n",
    "\n",
    "# # Display the data frame\n",
    "per_school_summary_df"
   ]
  },
  {
   "cell_type": "code",
   "execution_count": null,
   "metadata": {},
   "outputs": [],
   "source": [
    "# Step 5.  Get the number of 10th-12th graders from Thomas High School (THS).\n",
    "thomas_student_count = student_data_df.loc[student_data_df['school_name']=='Thomas High School','student_name'].count() - student_data_df.loc[(student_data_df['school_name']=='Thomas High School')&(student_data_df['grade']=='9th'),'student_name'].count()"
   ]
  },
  {
   "cell_type": "code",
   "execution_count": null,
   "metadata": {},
   "outputs": [],
   "source": [
    "# Step 6. Get all the students passing math from THS\n",
    "thomas_passing_reading = school_data_complete_df[(school_data_complete_df[\"school_name\"] =='Thomas High School') &(school_data_complete_df[\"math_score\"] >= 70)]"
   ]
  },
  {
   "cell_type": "code",
   "execution_count": null,
   "metadata": {},
   "outputs": [],
   "source": [
    "# Step 7. Get all the students passing reading from THS\n",
    "thomas_passing_reading = school_data_complete_df[(school_data_complete_df[\"school_name\"] =='Thomas High School') &(school_data_complete_df[\"reading_score\"] >= 70)]"
   ]
  },
  {
   "cell_type": "code",
   "execution_count": null,
   "metadata": {},
   "outputs": [],
   "source": [
    "# Step 8. Get all the students passing math and reading from THS\n",
    "thomas_passing_reading = school_data_complete_df[(school_data_complete_df[\"school_name\"] =='Thomas High School')&(school_data_complete_df[\"math_score\"] >= 70) &(school_data_complete_df[\"reading_score\"] >= 70)]"
   ]
  },
  {
   "cell_type": "code",
   "execution_count": null,
   "metadata": {},
   "outputs": [],
   "source": [
    "# Step 9. Calculate the percentage of 10th-12th grade students passing math from Thomas High School. \n",
    "thomas_ten_twelfth_maths = school_data_complete_df[(school_data_complete_df[\"school_name\"] =='Thomas High School')&(school_data_complete_df[\"grade\"] != '9th') &(school_data_complete_df[\"math_score\"] >= 70)].count()['student_name']\n",
    "thomas_ten_twelfth_maths_percentage = float(thomas_ten_twelfth_maths)/float(thomas_student_count)*100"
   ]
  },
  {
   "cell_type": "code",
   "execution_count": null,
   "metadata": {},
   "outputs": [],
   "source": [
    "# Step 10. Calculate the percentage of 10th-12th grade students passing reading from Thomas High School.\n",
    "thomas_ten_twelfth_reading = school_data_complete_df[(school_data_complete_df[\"school_name\"] =='Thomas High School')&(school_data_complete_df[\"grade\"] != '9th') &(school_data_complete_df[\"reading_score\"] >= 70)].count()['student_name']\n",
    "thomas_ten_twelfth_reading_percentage = float(thomas_ten_twelfth_reading)/float(thomas_student_count)*100"
   ]
  },
  {
   "cell_type": "code",
   "execution_count": null,
   "metadata": {},
   "outputs": [],
   "source": [
    "# Step 11. Calculate the overall passing percentage of 10th-12th grade from Thomas High School. \n",
    "thomas_ten_twelfth_overall = school_data_complete_df[(school_data_complete_df[\"school_name\"] =='Thomas High School')&(school_data_complete_df[\"grade\"] != '9th') &(school_data_complete_df[\"reading_score\"] >= 70)&(school_data_complete_df[\"math_score\"] >= 70)].count()['student_name']\n",
    "thomas_ten_twelfth_overall_percentage = float(thomas_ten_twelfth_overall )/float(thomas_student_count)*100\n"
   ]
  },
  {
   "cell_type": "code",
   "execution_count": null,
   "metadata": {},
   "outputs": [],
   "source": [
    "# Step 12. Replace the passing math percent for Thomas High School in the per_school_summary_df.\n",
    "per_school_summary_df.loc['Thomas High School','% Passing Math'] = thomas_ten_twelfth_maths_percentage"
   ]
  },
  {
   "cell_type": "code",
   "execution_count": null,
   "metadata": {},
   "outputs": [],
   "source": [
    "# Step 13. Replace the passing reading percentage for Thomas High School in the per_school_summary_df.\n",
    "per_school_summary_df.loc['Thomas High School','% Passing Reading'] = thomas_ten_twelfth_reading_percentage"
   ]
  },
  {
   "cell_type": "code",
   "execution_count": null,
   "metadata": {},
   "outputs": [],
   "source": [
    "# Step 14. Replace the overall passing percentage for Thomas High School in the per_school_summary_df.\n",
    "per_school_summary_df.loc['Thomas High School','% Overall Passing'] = thomas_ten_twelfth_overall_percentage"
   ]
  },
  {
   "cell_type": "code",
   "execution_count": null,
   "metadata": {},
   "outputs": [],
   "source": [
    "# per_school_summary_df['Total School Budget'] = per_school_summary_df['Total School Budget'].map('${:,.2f}'.format)\n",
    "# per_school_summary_df['Per Student Budget'] = per_school_summary_df['Per Student Budget'].map('${:,.2f}'.format)\n",
    "# per_school_summary_df['Total Students'] = per_school_summary_df['Total Students'].map('{:,}'.format)\n",
    "# per_school_summary_df['Average Math Score'] = per_school_summary_df['Average Math Score'].map('{:.1f}'.format)\n",
    "# per_school_summary_df['Average Reading Score'] = per_school_summary_df['Average Reading Score'].map('{:.1f}'.format)\n",
    "# per_school_summary_df['% Passing Math'] = per_school_summary_df['% Passing Math'].map('{:.1f}'.format)\n",
    "# per_school_summary_df['% Passing Reading'] = per_school_summary_df['% Passing Reading'].map('{:.1f}'.format)\n",
    "# per_school_summary_df['% Overall Passing'] = per_school_summary_df['% Overall Passing'].map('{:.1f}'.format)\n",
    "per_school_summary_df"
   ]
  },
  {
   "cell_type": "markdown",
   "metadata": {},
   "source": [
    "## High and Low Performing Schools "
   ]
  },
  {
   "cell_type": "code",
   "execution_count": null,
   "metadata": {
    "scrolled": true
   },
   "outputs": [],
   "source": [
    "# Sort and show top five schools\n",
    "per_school_summary_df.sort_values('% Overall Passing',ascending =False).head(5)"
   ]
  },
  {
   "cell_type": "code",
   "execution_count": null,
   "metadata": {},
   "outputs": [],
   "source": [
    "# Sort and show bottom five schools.\n",
    "per_school_summary_df.sort_values('% Overall Passing',ascending =True).head(5)"
   ]
  },
  {
   "cell_type": "markdown",
   "metadata": {},
   "source": [
    "## Math and Reading Scores by Grade"
   ]
  },
  {
   "cell_type": "code",
   "execution_count": null,
   "metadata": {},
   "outputs": [],
   "source": [
    "# Create a Series of scores by grade levels using conditionals.\n",
    "ninth_grade = school_data_complete_df[(school_data_complete_df['grade']=='9th')]\n",
    "tenth_grade = school_data_complete_df[(school_data_complete_df['grade']=='10th')]\n",
    "eleventh_grade = school_data_complete_df[(school_data_complete_df['grade']=='11th')]\n",
    "twelfth_grade = school_data_complete_df[(school_data_complete_df['grade']=='12th')]\n",
    "\n",
    "# Group each school Series by the school name for the average math score.\n",
    "per_school_ninth_math = ninth_grade.groupby('school_name').mean()['math_score']\n",
    "per_school_tenth_math = tenth_grade.groupby('school_name').mean()['math_score']\n",
    "per_school_eleventh_math = eleventh_grade.groupby('school_name').mean()['math_score']\n",
    "per_school_twelfth_math = twelfth_grade.groupby('school_name').mean()['math_score']\n",
    "\n",
    "# Group each school Series by the school name for the average reading score.\n",
    "per_school_ninth_reading = ninth_grade.groupby('school_name').mean()['reading_score']\n",
    "per_school_tenth_reading = tenth_grade.groupby('school_name').mean()['reading_score']\n",
    "per_school_eleventh_reading = eleventh_grade.groupby('school_name').mean()['reading_score']\n",
    "per_school_twelfth_reading = twelfth_grade.groupby('school_name').mean()['reading_score']\n"
   ]
  },
  {
   "cell_type": "code",
   "execution_count": null,
   "metadata": {},
   "outputs": [],
   "source": [
    "# Combine each Series for average math scores by school into single data frame.\n",
    "average_math_scores_school = pd.DataFrame({'9th': per_school_ninth_math,\n",
    "                                          '10th': per_school_tenth_math,\n",
    "                                         '11th': per_school_eleventh_math,\n",
    "                                         '12th' : per_school_twelfth_math})"
   ]
  },
  {
   "cell_type": "code",
   "execution_count": null,
   "metadata": {},
   "outputs": [],
   "source": [
    "# Combine each Series for average reading scores by school into single data frame.\n",
    "average_reading_scores_school = pd.DataFrame({'9th': per_school_ninth_reading,\n",
    "                                          '10th': per_school_tenth_reading,\n",
    "                                         '11th': per_school_eleventh_reading,\n",
    "                                         '12th' : per_school_twelfth_reading})"
   ]
  },
  {
   "cell_type": "code",
   "execution_count": null,
   "metadata": {},
   "outputs": [],
   "source": [
    "# Format each grade column.\n",
    "average_math_scores_school['9th'] = average_math_scores_school['9th'].map(\"{:,.1f}\".format)\n",
    "average_math_scores_school['10th'] = average_math_scores_school['10th'].map(\"{:,.1f}\".format)\n",
    "average_math_scores_school['11th'] = average_math_scores_school['11th'].map(\"{:,.1f}\".format)\n",
    "average_math_scores_school['12th'] = average_math_scores_school['12th'].map(\"{:,.1f}\".format)\n"
   ]
  },
  {
   "cell_type": "code",
   "execution_count": null,
   "metadata": {},
   "outputs": [],
   "source": [
    "# Remove the index.\n",
    "average_math_scores_school.index.name = None\n",
    "\n",
    "# Display the data frame\n",
    "average_math_scores_school"
   ]
  },
  {
   "cell_type": "code",
   "execution_count": null,
   "metadata": {},
   "outputs": [],
   "source": [
    "# Format each grade column.\n",
    "average_reading_scores_school['9th'] = average_reading_scores_school['9th'].map(\"{:,.1f}\".format)\n",
    "average_reading_scores_school['10th'] = average_reading_scores_school['10th'].map(\"{:,.1f}\".format)\n",
    "average_reading_scores_school['11th'] = average_reading_scores_school['11th'].map(\"{:,.1f}\".format)\n",
    "average_reading_scores_school['12th'] = average_reading_scores_school['12th'].map(\"{:,.1f}\".format)\n",
    "\n",
    "\n",
    "## Remove the index.\n",
    "average_reading_scores_school.index.name= None\n",
    "\n",
    "# Display the data frame\n",
    "average_reading_scores_school"
   ]
  },
  {
   "cell_type": "markdown",
   "metadata": {},
   "source": [
    "## Scores by School Spending"
   ]
  },
  {
   "cell_type": "code",
   "execution_count": null,
   "metadata": {},
   "outputs": [],
   "source": [
    "# Establish the spending bins and group names.\n",
    "spending_bins = [0,585,630,645,675]\n",
    "spending_labels = ['<$584','$585-629','$630-644','$645-675']\n",
    "\n",
    "# Categorize spending based on the bins.\n",
    "per_school_summary_df['Spending Ranges (Per Student)'] = pd.cut(per_school_capita,spending_bins,labels =spending_labels)"
   ]
  },
  {
   "cell_type": "code",
   "execution_count": null,
   "metadata": {},
   "outputs": [],
   "source": [
    "# Calculate averages for the desired columns. \n",
    "spending_math_scores = per_school_summary_df.groupby(['Spending Ranges (Per Student)']).mean()['Average Math Score']\n",
    "spending_reading_scores = per_school_summary_df.groupby(['Spending Ranges (Per Student)']).mean()['Average Reading Score']\n",
    "spending_passing_math = per_school_summary_df.groupby(['Spending Ranges (Per Student)']).mean()['% Passing Math']\n",
    "spending_passing_reading = per_school_summary_df.groupby(['Spending Ranges (Per Student)']).mean()['% Passing Reading']\n",
    "overall_passing_spending = per_school_summary_df.groupby(['Spending Ranges (Per Student)']).mean()['% Overall Passing']"
   ]
  },
  {
   "cell_type": "code",
   "execution_count": null,
   "metadata": {},
   "outputs": [],
   "source": [
    "# Create the DataFrame\n",
    "spending_summary_df = pd.DataFrame({'Average Math Score': spending_math_scores,\n",
    "                                   'Average Reading Score': spending_reading_scores,\n",
    "                                   '% Passing Maths': spending_passing_math,\n",
    "                                   '% Passing Reading': spending_passing_reading,\n",
    "                                   '% Overall Passing': overall_passing_spending})"
   ]
  },
  {
   "cell_type": "code",
   "execution_count": null,
   "metadata": {},
   "outputs": [],
   "source": [
    "# Format the DataFrame \n",
    "spending_summary_df[\"Average Math Score\"] = spending_summary_df[\"Average Math Score\"].map(\"{:.1f}\".format)\n",
    "spending_summary_df[\"Average Reading Score\"] = spending_summary_df[\"Average Reading Score\"].map(\"{:.1f}\".format)\n",
    "spending_summary_df[\"% Passing Maths\"] = spending_summary_df[\"% Passing Maths\"].map(\"{:.0f}\".format)\n",
    "spending_summary_df[\"% Passing Reading\"] = spending_summary_df[\"% Passing Reading\"].map(\"{:.0f}\".format)\n",
    "spending_summary_df[\"% Overall Passing\"] = spending_summary_df[\"% Overall Passing\"].map('{:,.1f}'.format)\n",
    "spending_summary_df.index.name =None        \n",
    "spending_summary_df"
   ]
  },
  {
   "cell_type": "markdown",
   "metadata": {},
   "source": [
    "## Scores by School Size"
   ]
  },
  {
   "cell_type": "code",
   "execution_count": null,
   "metadata": {},
   "outputs": [],
   "source": [
    "# Establish the bins.\n",
    "size_bins = [0,1800,3000,5000]\n",
    "size_labels = ['Small (<1800)','Medium (1800-3000)','Large (3000-5000)']\n",
    "\n",
    "# Categorize spending based on the bins.\n",
    "per_school_summary_df['School_Size'] = pd.cut(per_school_counts,size_bins, labels = size_labels) "
   ]
  },
  {
   "cell_type": "code",
   "execution_count": null,
   "metadata": {},
   "outputs": [],
   "source": [
    "# Calculate averages for the desired columns. \n",
    "size_math_score = per_school_summary_df.groupby(per_school_summary_df['School_Size']).mean()['Average Math Score']\n",
    "size_reading_score = per_school_summary_df.groupby(per_school_summary_df['School_Size']).mean()['Average Reading Score']\n",
    "size_passing_math = per_school_summary_df.groupby(per_school_summary_df['School_Size']).mean()['% Passing Math']\n",
    "size_passing_reading= per_school_summary_df.groupby(per_school_summary_df['School_Size']).mean()['% Passing Reading']\n",
    "size_passing_overall = per_school_summary_df.groupby(per_school_summary_df['School_Size']).mean()['% Overall Passing']"
   ]
  },
  {
   "cell_type": "code",
   "execution_count": null,
   "metadata": {
    "scrolled": true
   },
   "outputs": [],
   "source": [
    "# Assemble into DataFrame. \n",
    "school_size_summary = pd.DataFrame({'Average Math Score':size_math_score,\n",
    "                                    \"Average Reading Score\": size_reading_score,\n",
    "                                    \"% Passing Math\": size_passing_math, \n",
    "                                    \"% Passing Reading\": size_passing_reading,\n",
    "                                    \"% Overall Passing\": size_passing_overall})\n",
    "school_size_summary.index.name = None"
   ]
  },
  {
   "cell_type": "code",
   "execution_count": null,
   "metadata": {},
   "outputs": [],
   "source": [
    "# Format the DataFrame  \n",
    "school_size_summary['Average Math Score'] = school_size_summary['Average Math Score'].map('{:.1f}'.format)\n",
    "school_size_summary['Average Reading Score'] = school_size_summary['Average Reading Score'].map('{:.1f}'.format)\n",
    "school_size_summary['% Passing Math'] = school_size_summary['% Passing Math'].map('{:.0f}'.format)\n",
    "school_size_summary['% Passing Reading'] = school_size_summary['% Passing Reading'].map('{:.0f}'.format)\n",
    "school_size_summary['% Overall Passing'] = school_size_summary['% Overall Passing'].map('{:.0f}'.format)\n",
    "school_size_summary"
   ]
  },
  {
   "cell_type": "markdown",
   "metadata": {},
   "source": [
    "## Scores by School Type"
   ]
  },
  {
   "cell_type": "code",
   "execution_count": null,
   "metadata": {},
   "outputs": [],
   "source": [
    "# Calculate averages for the desired columns.\n",
    "type_math_score = per_school_summary_df.groupby(per_school_summary_df['School Type']).mean()['Average Math Score']\n",
    "type_reading_score = per_school_summary_df.groupby(per_school_summary_df['School Type']).mean()['Average Reading Score']\n",
    "type_passing_math = per_school_summary_df.groupby(per_school_summary_df['School Type']).mean()['% Passing Math']\n",
    "type_passing_reading= per_school_summary_df.groupby(per_school_summary_df['School Type']).mean()['% Passing Reading']\n",
    "type_passing_overall = per_school_summary_df.groupby(per_school_summary_df['School Type']).mean()['% Overall Passing']"
   ]
  },
  {
   "cell_type": "code",
   "execution_count": null,
   "metadata": {},
   "outputs": [],
   "source": [
    "# Assemble into DataFrame. \n",
    "school_type_summary = pd.DataFrame({'Average Math Score':type_math_score,\n",
    "                                    \"Average Reading Score\": type_reading_score,\n",
    "                                    \"% Passing Math\": type_passing_math, \n",
    "                                    \"% Passing Reading\": type_passing_reading,\n",
    "                                    \"% Overall Passing\": type_passing_overall})\n",
    "school_type_summary.index.name = None"
   ]
  },
  {
   "cell_type": "code",
   "execution_count": null,
   "metadata": {},
   "outputs": [],
   "source": [
    "# # Format the DataFrame \n",
    "school_type_summary['Average Math Score'] = school_type_summary['Average Math Score'].map('{:.1f}'.format)\n",
    "school_type_summary['Average Reading Score'] = school_type_summary['Average Reading Score'].map('{:.1f}'.format)\n",
    "school_type_summary['% Passing Math'] = school_type_summary['% Passing Math'].map('{:.0f}'.format)\n",
    "school_type_summary['% Passing Reading'] = school_type_summary['% Passing Reading'].map('{:.0f}'.format)\n",
    "school_type_summary['% Overall Passing'] = school_type_summary['% Overall Passing'].map('{:.0f}'.format)\n",
    "school_type_summary"
   ]
  },
  {
   "cell_type": "code",
   "execution_count": null,
   "metadata": {},
   "outputs": [],
   "source": []
  }
 ],
 "metadata": {
  "anaconda-cloud": {},
  "kernel_info": {
   "name": "python3"
  },
  "kernelspec": {
   "display_name": "PythonData",
   "language": "python",
   "name": "pythondata"
  },
  "language_info": {
   "codemirror_mode": {
    "name": "ipython",
    "version": 3
   },
   "file_extension": ".py",
   "mimetype": "text/x-python",
   "name": "python",
   "nbconvert_exporter": "python",
   "pygments_lexer": "ipython3",
   "version": "3.7.7"
  },
  "nteract": {
   "version": "0.8.4"
  }
 },
 "nbformat": 4,
 "nbformat_minor": 4
}
