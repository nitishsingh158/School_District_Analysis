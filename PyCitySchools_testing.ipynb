{
 "cells": [
  {
   "cell_type": "code",
   "execution_count": null,
   "metadata": {},
   "outputs": [],
   "source": [
    "import pandas as pd"
   ]
  },
  {
   "cell_type": "code",
   "execution_count": null,
   "metadata": {},
   "outputs": [],
   "source": [
    "school_data_to_load = 'Resources/schools_complete.csv'\n",
    "student_data_to_load = 'Resources/students_complete.csv'"
   ]
  },
  {
   "cell_type": "code",
   "execution_count": null,
   "metadata": {
    "scrolled": true
   },
   "outputs": [],
   "source": [
    "school_data_df = pd.read_csv(school_data_to_load)\n",
    "school_data_df.head()"
   ]
  },
  {
   "cell_type": "code",
   "execution_count": null,
   "metadata": {},
   "outputs": [],
   "source": [
    "student_data_df = pd.read_csv(student_data_to_load)"
   ]
  },
  {
   "cell_type": "code",
   "execution_count": null,
   "metadata": {
    "scrolled": true
   },
   "outputs": [],
   "source": [
    "student_data_df.head()"
   ]
  },
  {
   "cell_type": "code",
   "execution_count": null,
   "metadata": {},
   "outputs": [],
   "source": [
    "student_data_df.count()"
   ]
  },
  {
   "cell_type": "code",
   "execution_count": null,
   "metadata": {},
   "outputs": [],
   "source": [
    "student_data_df.isnull()"
   ]
  },
  {
   "cell_type": "code",
   "execution_count": null,
   "metadata": {},
   "outputs": [],
   "source": [
    "student_data_df.isnull().sum()"
   ]
  },
  {
   "cell_type": "code",
   "execution_count": null,
   "metadata": {},
   "outputs": [],
   "source": [
    "student_data_df.notnull()"
   ]
  },
  {
   "cell_type": "code",
   "execution_count": null,
   "metadata": {},
   "outputs": [],
   "source": [
    "student_data_df.notnull().sum()"
   ]
  },
  {
   "cell_type": "code",
   "execution_count": null,
   "metadata": {},
   "outputs": [],
   "source": [
    "school_data_df.dtypes"
   ]
  },
  {
   "cell_type": "code",
   "execution_count": null,
   "metadata": {},
   "outputs": [],
   "source": [
    "student_data_df.dtypes"
   ]
  },
  {
   "cell_type": "code",
   "execution_count": null,
   "metadata": {},
   "outputs": [],
   "source": [
    "#Clean the names of the student \n",
    "prefixes_suffixes = ['Mr. ','Dr. ','Mrs. ','Miss ', 'Ms. ',\" MD\", \" DDS\", \" DVM\", \" PhD\"]\n",
    "for word in prefixes_suffixes:\n",
    "    student_data_df.student_name= student_data_df.student_name.str.replace(word,\"\")\n",
    "student_data_df.head(10)"
   ]
  },
  {
   "cell_type": "code",
   "execution_count": null,
   "metadata": {},
   "outputs": [],
   "source": [
    "student_data_df.describe()"
   ]
  },
  {
   "cell_type": "code",
   "execution_count": null,
   "metadata": {},
   "outputs": [],
   "source": [
    "#Combining datasets of students and schools on a common column for analysis\n",
    "school_data_complete_df = pd.merge(student_data_df,school_data_df, on = ['school_name','school_name'])\n",
    "school_data_complete_df.head(10)"
   ]
  },
  {
   "cell_type": "code",
   "execution_count": null,
   "metadata": {},
   "outputs": [],
   "source": [
    "#Finding the total number of students in the district\n",
    "student_count = school_data_complete_df['Student ID'].count()\n",
    "student_count"
   ]
  },
  {
   "cell_type": "code",
   "execution_count": null,
   "metadata": {},
   "outputs": [],
   "source": [
    "# Find the number of schools in the district\n",
    "school_count = len(school_data_complete_df['school_name'].unique())\n",
    "school_count"
   ]
  },
  {
   "cell_type": "code",
   "execution_count": null,
   "metadata": {},
   "outputs": [],
   "source": [
    "#Finding total budget of the school district\n",
    "total_budget = school_data_df['budget'].sum()\n",
    "total_budget"
   ]
  },
  {
   "cell_type": "code",
   "execution_count": null,
   "metadata": {},
   "outputs": [],
   "source": [
    "#Finding the average reading score\n",
    "average_reading_score = round(school_data_complete_df['reading_score'].mean(),1)\n",
    "average_reading_score\n"
   ]
  },
  {
   "cell_type": "code",
   "execution_count": null,
   "metadata": {},
   "outputs": [],
   "source": [
    "#Finding the average math score\n",
    "average_math_score = round(school_data_complete_df['math_score'].mean(),1)\n",
    "average_math_score\n"
   ]
  },
  {
   "cell_type": "code",
   "execution_count": null,
   "metadata": {
    "scrolled": true
   },
   "outputs": [],
   "source": [
    "#The passing score for reading and math is 70. We find the number of students who have a passing grade\n",
    "math_passing = school_data_complete_df['math_score']>=70\n",
    "math_passing"
   ]
  },
  {
   "cell_type": "code",
   "execution_count": null,
   "metadata": {},
   "outputs": [],
   "source": [
    "reading_passing = school_data_complete_df['reading_score']>=70\n",
    "reading_passing"
   ]
  },
  {
   "cell_type": "code",
   "execution_count": null,
   "metadata": {},
   "outputs": [],
   "source": [
    "#Create a new dataframe with only stodents who passed maths\n",
    "math_passing = school_data_complete_df[school_data_complete_df['math_score']>=70]\n",
    "math_passing.head()"
   ]
  },
  {
   "cell_type": "code",
   "execution_count": null,
   "metadata": {},
   "outputs": [],
   "source": [
    "#Create a new dataframe with only stodents who passed reading\n",
    "reading_passing = school_data_complete_df[school_data_complete_df['reading_score']>=70]\n",
    "reading_passing.head()"
   ]
  },
  {
   "cell_type": "code",
   "execution_count": null,
   "metadata": {},
   "outputs": [],
   "source": [
    "#Calculate the number of students who passed maths\n",
    "passing_math_count = math_passing['student_name'].count()\n",
    "passing_math_count"
   ]
  },
  {
   "cell_type": "code",
   "execution_count": null,
   "metadata": {},
   "outputs": [],
   "source": [
    "#Calculate the number of students who passed reading\n",
    "passing_reading_count = reading_passing['student_name'].count()\n",
    "passing_reading_count"
   ]
  },
  {
   "cell_type": "code",
   "execution_count": null,
   "metadata": {},
   "outputs": [],
   "source": [
    "#Calcualte the percentage of students who passed maths and reading\n",
    "passing_math_percentage = round(float(passing_math_count)/float(student_count)*100,1)\n",
    "passing_reading_percentage = round(float(passing_reading_count)/float(student_count)*100,1)\n"
   ]
  },
  {
   "cell_type": "code",
   "execution_count": null,
   "metadata": {},
   "outputs": [],
   "source": [
    "# Calculate the students who passed both math and reading.\n",
    "passing_math_reading = school_data_complete_df[\n",
    "    (school_data_complete_df['math_score']>=70) \n",
    "    &\n",
    "    (school_data_complete_df['reading_score']>=70) ]\n",
    "passing_math_reading.head()"
   ]
  },
  {
   "cell_type": "code",
   "execution_count": null,
   "metadata": {},
   "outputs": [],
   "source": [
    "# Calculate the number of students who passed both math and reading.\n",
    "overall_passing_math_reading_count = passing_math_reading[\"student_name\"].count()\n",
    "overall_passing_math_reading_count"
   ]
  },
  {
   "cell_type": "code",
   "execution_count": null,
   "metadata": {},
   "outputs": [],
   "source": [
    "# Calculate the overall passing percentage.\n",
    "overall_passing_percentage = round(float(overall_passing_math_reading_count)/float(student_count)*100,1)\n",
    "overall_passing_percentage"
   ]
  },
  {
   "cell_type": "code",
   "execution_count": null,
   "metadata": {},
   "outputs": [],
   "source": [
    "# Adding a list of values with keys to create a new DataFrame.\n",
    "district_summary_df = pd.DataFrame(\n",
    "    [{\"Total Schools\": school_count,\n",
    "     \"Total Students\": student_count,\n",
    "     \"Total Budget\": total_budget,\n",
    "     \"Average Math Score\": average_math_score,\n",
    "     \"Average Reading Score\": average_reading_score,\n",
    "     \"% Passing Math\": passing_math_percentage,\n",
    "     \"% Passing Reading\": passing_reading_percentage,\n",
    "     \"% Overall Passing\": overall_passing_percentage}])\n",
    "district_summary_df"
   ]
  },
  {
   "cell_type": "code",
   "execution_count": null,
   "metadata": {},
   "outputs": [],
   "source": [
    "#format the distric summary to make it presentable\n",
    "district_summary_df['Total Students'] = district_summary_df['Total Students'].map(\"{:,}\".format)\n",
    "district_summary_df['Total Budget'] = district_summary_df['Total Budget'].map(\"${:,.2f}\".format)\n",
    "district_summary_df['Average Math Score'] = district_summary_df['Average Math Score'].map(\"{:.1f}\".format)\n",
    "district_summary_df['Average Reading Score'] = district_summary_df['Average Reading Score'].map(\"{:.1f}\".format)\n",
    "district_summary_df['% Passing Math'] = district_summary_df['% Passing Math'].map(\"{:.1f}\".format)\n",
    "district_summary_df['% Passing Reading'] = district_summary_df['% Passing Reading'].map(\"{:.1f}\".format)\n",
    "district_summary_df['% Overall Passing'] = district_summary_df['% Overall Passing'].map(\"{:.1f}\".format)"
   ]
  },
  {
   "cell_type": "code",
   "execution_count": null,
   "metadata": {},
   "outputs": [],
   "source": [
    "district_summary_df"
   ]
  },
  {
   "cell_type": "code",
   "execution_count": null,
   "metadata": {},
   "outputs": [],
   "source": [
    "#Get school level summary satistics by setting school name as index\n",
    "per_school_types = school_data_df.set_index(['school_name'])['type']\n",
    "per_school_types"
   ]
  },
  {
   "cell_type": "code",
   "execution_count": null,
   "metadata": {},
   "outputs": [],
   "source": [
    "#Getting student counts from school_data_df\n",
    "per_school_counts = school_data_df.set_index(['school_name'])['size']\n",
    "per_school_counts"
   ]
  },
  {
   "cell_type": "code",
   "execution_count": null,
   "metadata": {},
   "outputs": [],
   "source": [
    "#Getting student counts from school_data_complete_fd\n",
    "per_school_counts = school_data_complete_df['school_name'].value_counts()\n",
    "per_school_counts"
   ]
  },
  {
   "cell_type": "code",
   "execution_count": null,
   "metadata": {},
   "outputs": [],
   "source": [
    "# Getting per school budget\n",
    "per_school_budget = school_data_df.set_index(['school_name'])['budget']\n",
    "per_school_budget"
   ]
  },
  {
   "cell_type": "code",
   "execution_count": null,
   "metadata": {},
   "outputs": [],
   "source": [
    "# Getting per student budget\n",
    "per_school_capita = per_school_budget/per_school_counts\n",
    "per_school_capita"
   ]
  },
  {
   "cell_type": "code",
   "execution_count": null,
   "metadata": {},
   "outputs": [],
   "source": [
    "# Calculate the math scores.\n",
    "per_school_math_average = school_data_complete_df.groupby(['school_name']).mean()['math_score']\n",
    "per_school_math_average"
   ]
  },
  {
   "cell_type": "code",
   "execution_count": null,
   "metadata": {},
   "outputs": [],
   "source": [
    "# Calculate the math scores.\n",
    "per_school_reading_average = school_data_complete_df.groupby(['school_name']).mean()['reading_score']\n",
    "per_school_reading_average"
   ]
  },
  {
   "cell_type": "code",
   "execution_count": null,
   "metadata": {},
   "outputs": [],
   "source": [
    "#Calculating per school passing counts in maths\n",
    "per_school_passing_math = school_data_complete_df[school_data_complete_df['math_score'] >= 70].groupby(['school_name']).count()['math_score']\n",
    "per_school_passing_math"
   ]
  },
  {
   "cell_type": "code",
   "execution_count": null,
   "metadata": {},
   "outputs": [],
   "source": [
    "#Calculating per school passing counts in reading\n",
    "per_school_passing_reading = school_data_complete_df[school_data_complete_df['reading_score'] >= 70].groupby(['school_name']).count()['reading_score']\n",
    "per_school_passing_reading"
   ]
  },
  {
   "cell_type": "code",
   "execution_count": null,
   "metadata": {},
   "outputs": [],
   "source": [
    "#caclulation per school passing percentage in maths\n",
    "per_school_passing_math = per_school_passing_math/per_school_counts*100\n",
    "per_school_passing_math"
   ]
  },
  {
   "cell_type": "code",
   "execution_count": null,
   "metadata": {},
   "outputs": [],
   "source": [
    "#caclulation per school passing percentage in reading\n",
    "per_school_passing_reading = per_school_passing_reading/per_school_counts*100\n",
    "per_school_passing_reading"
   ]
  },
  {
   "cell_type": "code",
   "execution_count": null,
   "metadata": {},
   "outputs": [],
   "source": [
    "#calculate the number of students passing both maths and reading in each school \n",
    "per_passing_math_reading = school_data_complete_df[\n",
    "    (school_data_complete_df['math_score'] >= 70) \n",
    "    & \n",
    "    (school_data_complete_df['reading_score'] >= 70)].groupby(['school_name']).count()['student_name']\n",
    "per_passing_math_reading"
   ]
  },
  {
   "cell_type": "code",
   "execution_count": null,
   "metadata": {},
   "outputs": [],
   "source": [
    "# Calculate the overall passing percentage.\n",
    "per_overall_passing_percentage = per_passing_math_reading/per_school_counts*100\n",
    "per_overall_passing_percentage"
   ]
  },
  {
   "cell_type": "code",
   "execution_count": null,
   "metadata": {},
   "outputs": [],
   "source": [
    "#Build the per school summary \n",
    "per_school_summary_df = pd.DataFrame({'School Type': per_school_types,\n",
    "                                     'Total Students': per_school_counts,\n",
    "                                     'Total School Budget': per_school_budget,\n",
    "                                     'Per Student Budget': per_school_capita,\n",
    "                                     'Average Math Score': per_school_math_average,\n",
    "                                     'Average Reading Score': per_school_reading_average,\n",
    "                                     '% Passing Math': per_school_passing_math,\n",
    "                                     '% Passing Reading': per_school_passing_reading,\n",
    "                                     '% Overall Passing': per_overall_passing_percentage})\n",
    "per_school_summary_df"
   ]
  },
  {
   "cell_type": "code",
   "execution_count": null,
   "metadata": {},
   "outputs": [],
   "source": [
    "#format the per school dataframe\n",
    "per_school_summary_df['Total School Budget'] = per_school_summary_df['Total School Budget'].map('${:,.2f}'.format)\n",
    "per_school_summary_df['Per Student Budget'] = per_school_summary_df['Per Student Budget'].map('${:,.2f}'.format)\n",
    "per_school_summary_df['Total Students'] = per_school_summary_df['Total Students'].map('{:,}'.format)\n",
    "per_school_summary_df['Average Math Score'] = per_school_summary_df['Average Math Score'].map('{:.2f}'.format)\n",
    "per_school_summary_df['Average Reading Score'] = per_school_summary_df['Average Reading Score'].map('{:.2f}'.format)\n",
    "per_school_summary_df['% Passing Math'] = per_school_summary_df['% Passing Math'].map('{:.0f}'.format)\n",
    "per_school_summary_df['% Passing Reading'] = per_school_summary_df['% Passing Reading'].map('{:.0f}'.format)\n",
    "per_school_summary_df['% Overall Passing'] = per_school_summary_df['% Overall Passing'].map('{:.0f}'.format)"
   ]
  },
  {
   "cell_type": "code",
   "execution_count": null,
   "metadata": {},
   "outputs": [],
   "source": [
    "per_school_summary_df['Average Math Score'] = per_school_summary_df['Average Math Score'].astype(float)\n",
    "per_school_summary_df['Average Reading Score'] = per_school_summary_df['Average Reading Score'].astype(float)\n",
    "per_school_summary_df['% Passing Math'] = per_school_summary_df['% Passing Math'].astype(float)\n",
    "per_school_summary_df['% Passing Reading'] = per_school_summary_df['% Passing Reading'].astype(float)\n",
    "per_school_summary_df['% Overall Passing'] = per_school_summary_df['% Overall Passing'].astype(float)\n"
   ]
  },
  {
   "cell_type": "code",
   "execution_count": null,
   "metadata": {},
   "outputs": [],
   "source": [
    "# Sort and show top five schools.\n",
    "top_schools = per_school_summary_df.sort_values(['% Overall Passing'],ascending =False)\n",
    "top_schools.head()"
   ]
  },
  {
   "cell_type": "code",
   "execution_count": null,
   "metadata": {},
   "outputs": [],
   "source": [
    "# Sort and show lowest five schools.\n",
    "bottom_schools = per_school_summary_df.sort_values(['% Overall Passing'],ascending =True)\n",
    "bottom_schools.head()\n"
   ]
  },
  {
   "cell_type": "code",
   "execution_count": null,
   "metadata": {},
   "outputs": [],
   "source": [
    "#Create Grade-Level DataFrames\n",
    "ninth_grades = student_data_df[student_data_df['grade']=='9th']\n",
    "tenth_grades = student_data_df[student_data_df['grade']=='10th']\n",
    "eleventh_grades = student_data_df[student_data_df['grade']=='11th']\n",
    "twelfth_grades = student_data_df[student_data_df['grade']=='12th']"
   ]
  },
  {
   "cell_type": "code",
   "execution_count": null,
   "metadata": {},
   "outputs": [],
   "source": [
    "# Group each school Series by the school name for the average math score.\n",
    "ninth_grade_math_scores = ninth_grades.groupby(['school_name']).mean()['math_score']\n",
    "tenth_grade_math_scores = tenth_grades.groupby(['school_name']).mean()['math_score']\n",
    "eleventh_grade_math_scores = eleventh_grades.groupby(['school_name']).mean()['math_score']\n",
    "twelfth_grade_math_scores = twelfth_grades.groupby(['school_name']).mean()['math_score']"
   ]
  },
  {
   "cell_type": "code",
   "execution_count": null,
   "metadata": {},
   "outputs": [],
   "source": [
    "# Group each school Series by the school name for the average math score.\n",
    "ninth_grade_reading_scores = ninth_grades.groupby(['school_name']).mean()['reading_score']\n",
    "tenth_grade_reading_scores = tenth_grades.groupby(['school_name']).mean()['reading_score']\n",
    "eleventh_grade_reading_scores = eleventh_grades.groupby(['school_name']).mean()['reading_score']\n",
    "twelfth_grade_reading_scores = twelfth_grades.groupby(['school_name']).mean()['reading_score']"
   ]
  },
  {
   "cell_type": "code",
   "execution_count": null,
   "metadata": {},
   "outputs": [],
   "source": [
    "twelfth_grade_reading_scores"
   ]
  },
  {
   "cell_type": "code",
   "execution_count": null,
   "metadata": {},
   "outputs": [],
   "source": [
    "# Combine each Series for average math scores by school into single DataFrame.\n",
    "math_scores_by_grade = pd.DataFrame({'9th': ninth_grade_math_scores,\n",
    "                                    '10th': tenth_grade_math_scores,\n",
    "                                    '11th': eleventh_grade_math_scores,\n",
    "                                    '12th': twelfth_grade_math_scores})\n",
    "math_scores_by_grade"
   ]
  },
  {
   "cell_type": "code",
   "execution_count": null,
   "metadata": {},
   "outputs": [],
   "source": [
    "# Combine each Series for average reading scores by school into single DataFrame.\n",
    "reading_scores_by_grade = pd.DataFrame({'9th': ninth_grade_reading_scores,\n",
    "                                    '10th': tenth_grade_reading_scores,\n",
    "                                    '11th': eleventh_grade_reading_scores,\n",
    "                                    '12th': twelfth_grade_reading_scores})\n",
    "reading_scores_by_grade"
   ]
  },
  {
   "cell_type": "code",
   "execution_count": null,
   "metadata": {},
   "outputs": [],
   "source": [
    "#format the tables to single decimal place\n",
    "math_scores_by_grade['9th'] = math_scores_by_grade['9th'].map('{:.1f}'.format)\n",
    "math_scores_by_grade['10th'] = math_scores_by_grade['10th'].map('{:.1f}'.format)\n",
    "math_scores_by_grade['11th'] = math_scores_by_grade['11th'].map('{:.1f}'.format)\n",
    "math_scores_by_grade['12th'] = math_scores_by_grade['12th'].map('{:.1f}'.format)"
   ]
  },
  {
   "cell_type": "code",
   "execution_count": null,
   "metadata": {},
   "outputs": [],
   "source": [
    "#format the tables to single decimal place\n",
    "reading_scores_by_grade['9th'] = reading_scores_by_grade['9th'].map('{:.1f}'.format)\n",
    "reading_scores_by_grade['10th'] = reading_scores_by_grade['10th'].map('{:.1f}'.format)\n",
    "reading_scores_by_grade['11th'] = reading_scores_by_grade['11th'].map('{:.1f}'.format)\n",
    "reading_scores_by_grade['12th'] = reading_scores_by_grade['12th'].map('{:.1f}'.format)"
   ]
  },
  {
   "cell_type": "code",
   "execution_count": null,
   "metadata": {},
   "outputs": [],
   "source": [
    " # Remove the index name.\n",
    "math_scores_by_grade.index.name = None\n",
    "reading_scores_by_grade.index.name = None"
   ]
  },
  {
   "cell_type": "code",
   "execution_count": null,
   "metadata": {},
   "outputs": [],
   "source": [
    "#Analyse if the spending per student has an effect on scores\n",
    "# Get the descriptive statistics for the per_school_capita.\n",
    "per_school_capita.describe()"
   ]
  },
  {
   "cell_type": "code",
   "execution_count": null,
   "metadata": {},
   "outputs": [],
   "source": [
    "# As you can see, the minimum is 578 and the maximum is 655. The standard deviation is 28.5, or approximately 30. \n",
    "# We don't want the lowest bin to be $578 because there is only one school at or below $578, which is Wilson High School. \n",
    "# However, there are four schools that spend less than $585 per student, so $585 will be our lowest bin. \n",
    "# Also, because the standard deviation is about 30, we will increase the bins by $30, up to $675. \n",
    "# Therefore, the four bins will be: $585, $615, $645, and $675.The bins will define a range of spending. \n",
    "# For the $585 bin, the range is all values at or below $585, the range for the $615 bin is $586–615, and so on. "
   ]
  },
  {
   "cell_type": "code",
   "execution_count": null,
   "metadata": {},
   "outputs": [],
   "source": [
    "# Cut the per_school_capita into the spending ranges.\n",
    "spending_bins = [0,585,630,645,675]\n",
    "pd.cut(per_school_capita,spending_bins)"
   ]
  },
  {
   "cell_type": "code",
   "execution_count": null,
   "metadata": {},
   "outputs": [],
   "source": [
    "per_school_capita.groupby(pd.cut(per_school_capita,spending_bins)).count()"
   ]
  },
  {
   "cell_type": "code",
   "execution_count": null,
   "metadata": {},
   "outputs": [],
   "source": [
    "group_names = [\"<$584\",\"$585-629\",'$630-644','$645-675']"
   ]
  },
  {
   "cell_type": "code",
   "execution_count": null,
   "metadata": {},
   "outputs": [],
   "source": [
    "per_school_summary_df['Spending Ranges (Per Student)'] = pd.cut(per_school_capita,spending_bins,labels = group_names)\n",
    "per_school_summary_df"
   ]
  },
  {
   "cell_type": "code",
   "execution_count": null,
   "metadata": {},
   "outputs": [],
   "source": [
    "# Calculate averages for the desired columns.\n",
    "spending_math_scores = per_school_summary_df.groupby(['Spending Ranges (Per Student)']).mean()['Average Math Score']\n",
    "spending_reading_scores = per_school_summary_df.groupby(['Spending Ranges (Per Student)']).mean()['Average Reading Score']\n",
    "spending_passing_math = per_school_summary_df.groupby(['Spending Ranges (Per Student)']).mean()['% Passing Math']\n",
    "spending_passing_reading = per_school_summary_df.groupby(['Spending Ranges (Per Student)']).mean()['% Passing Reading']\n",
    "overall_passing_spending = per_school_summary_df.groupby(['Spending Ranges (Per Student)']).mean()['% Overall Passing']"
   ]
  },
  {
   "cell_type": "code",
   "execution_count": null,
   "metadata": {},
   "outputs": [],
   "source": [
    "# Assemble into DataFrame.\n",
    "spending_summary_df = pd.DataFrame({'Average Math Score': spending_math_scores,\n",
    "                                   'Average Reading Score': spending_reading_scores,\n",
    "                                   '% Passing Maths': spending_passing_math,\n",
    "                                   '% Passing Reading': spending_passing_reading,\n",
    "                                   '% Overall Passing': overall_passing_spending})\n",
    "spending_summary_df"
   ]
  },
  {
   "cell_type": "code",
   "execution_count": null,
   "metadata": {},
   "outputs": [],
   "source": [
    "# Remove the index name.\n",
    "spending_summary_df.index.name = None"
   ]
  },
  {
   "cell_type": "code",
   "execution_count": null,
   "metadata": {},
   "outputs": [],
   "source": [
    "spending_summary_df.dtypes"
   ]
  },
  {
   "cell_type": "code",
   "execution_count": null,
   "metadata": {},
   "outputs": [],
   "source": [
    "# Formatting\n",
    "spending_summary_df[\"Average Math Score\"] = spending_summary_df[\"Average Math Score\"].map(\"{:.1f}\".format)\n",
    "\n",
    "spending_summary_df[\"Average Reading Score\"] = spending_summary_df[\"Average Reading Score\"].map(\"{:.1f}\".format)\n",
    "\n",
    "spending_summary_df[\"% Passing Maths\"] = spending_summary_df[\"% Passing Maths\"].map(\"{:.0f}\".format)\n",
    "\n",
    "spending_summary_df[\"% Passing Reading\"] = spending_summary_df[\"% Passing Reading\"].map(\"{:.0f}\".format)\n",
    "\n",
    "spending_summary_df[\"% Overall Passing\"] = spending_summary_df[\"% Overall Passing\"].map(\"{:.0f}\".format)\n",
    "\n",
    "spending_summary_df"
   ]
  },
  {
   "cell_type": "code",
   "execution_count": null,
   "metadata": {},
   "outputs": [],
   "source": [
    "#create bins for different school size ranges and add those ranges to the per school suumary \n",
    "size_bins = [0,1000,2000,5000]\n",
    "group_names = ['Small (<1000)','Medium (1000-2000)','Large (2000-5000)']\n",
    "per_school_summary_df[\"School Size\"] = pd.cut(per_school_counts, size_bins, labels=group_names)\n",
    "per_school_summary_df.dtypes"
   ]
  },
  {
   "cell_type": "code",
   "execution_count": null,
   "metadata": {},
   "outputs": [],
   "source": [
    "# Create different series on math, reading and overcall scores based on school size ranges\n",
    "size_math_score = per_school_summary_df.groupby(['School Size']).mean()['Average Math Score']\n",
    "size_reading_score = per_school_summary_df.groupby(['School Size']).mean()['Average Reading Score']\n",
    "size_passing_math = per_school_summary_df.groupby(['School Size']).mean()['% Passing Math']\n",
    "size_passing_reading = per_school_summary_df.groupby(['School Size']).mean()['% Passing Reading']\n",
    "size_overall_passing = per_school_summary_df.groupby(['School Size']).mean()['% Overall Passing']\n"
   ]
  },
  {
   "cell_type": "code",
   "execution_count": null,
   "metadata": {},
   "outputs": [],
   "source": [
    "# Assemble into DataFrame.\n",
    "size_summary_df = pd.DataFrame({\n",
    "          \"Average Math Score\" : size_math_score,\n",
    "          \"Average Reading Score\": size_reading_score,\n",
    "          \"% Passing Math\": size_passing_math,\n",
    "          \"% Passing Reading\": size_passing_reading,\n",
    "          \"% Overall Passing\": size_overall_passing})\n",
    "size_summary_df.index.name = None"
   ]
  },
  {
   "cell_type": "code",
   "execution_count": null,
   "metadata": {},
   "outputs": [],
   "source": [
    "# Create different series on math, reading and overcall scores based on school size ranges\n",
    "type_math_score = per_school_summary_df.groupby(['School Type']).mean()['Average Math Score']\n",
    "type_reading_score = per_school_summary_df.groupby(['School Type']).mean()['Average Reading Score']\n",
    "type_passing_math = per_school_summary_df.groupby(['School Type']).mean()['% Passing Math']\n",
    "type_passing_reading = per_school_summary_df.groupby(['School Type']).mean()['% Passing Reading']\n",
    "type_overall_passing = per_school_summary_df.groupby(['School Type']).mean()['% Overall Passing']"
   ]
  },
  {
   "cell_type": "code",
   "execution_count": null,
   "metadata": {},
   "outputs": [],
   "source": [
    "# Assemble into DataFrame.\n",
    "type_summary_df = pd.DataFrame({\n",
    "          \"Average Math Score\" : type_math_score,\n",
    "          \"Average Reading Score\": type_reading_score,\n",
    "          \"% Passing Math\": type_passing_math,\n",
    "          \"% Passing Reading\": type_passing_reading,\n",
    "          \"% Overall Passing\": type_overall_passing})\n",
    "size_summary_df.index.name = None"
   ]
  },
  {
   "cell_type": "code",
   "execution_count": null,
   "metadata": {},
   "outputs": [],
   "source": [
    "# Formatting\n",
    "type_summary_df[\"Average Math Score\"] = type_summary_df[\"Average Math Score\"].map(\"{:.1f}\".format)\n",
    "type_summary_df[\"Average Reading Score\"] = type_summary_df[\"Average Reading Score\"].map(\"{:.1f}\".format)\n",
    "type_summary_df[\"% Passing Math\"] = type_summary_df[\"% Passing Math\"].map(\"{:.0f}\".format)\n",
    "type_summary_df[\"% Passing Reading\"] = type_summary_df[\"% Passing Reading\"].map(\"{:.0f}\".format)\n",
    "type_summary_df[\"% Overall Passing\"] = type_summary_df[\"% Overall Passing\"].map(\"{:.0f}\".format)\n",
    "type_summary_df"
   ]
  },
  {
   "cell_type": "code",
   "execution_count": null,
   "metadata": {},
   "outputs": [],
   "source": []
  }
 ],
 "metadata": {
  "kernelspec": {
   "display_name": "PythonData",
   "language": "python",
   "name": "pythondata"
  },
  "language_info": {
   "codemirror_mode": {
    "name": "ipython",
    "version": 3
   },
   "file_extension": ".py",
   "mimetype": "text/x-python",
   "name": "python",
   "nbconvert_exporter": "python",
   "pygments_lexer": "ipython3",
   "version": "3.7.7"
  }
 },
 "nbformat": 4,
 "nbformat_minor": 4
}
